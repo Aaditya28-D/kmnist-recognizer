{
 "cells": [
  {
   "cell_type": "code",
   "execution_count": 15,
   "id": "4fcfde8a",
   "metadata": {},
   "outputs": [
    {
     "data": {
      "text/plain": [
       "device(type='mps')"
      ]
     },
     "execution_count": 15,
     "metadata": {},
     "output_type": "execute_result"
    }
   ],
   "source": [
    "from pathlib import Path\n",
    "import sys\n",
    "import torch\n",
    "\n",
    "# Make repo root importable\n",
    "REPO_ROOT = (Path.cwd() / \"..\").resolve()\n",
    "if str(REPO_ROOT) not in sys.path:\n",
    "    sys.path.insert(0, str(REPO_ROOT))\n",
    "\n",
    "# Data and models\n",
    "DATA_DIR   = REPO_ROOT / \"data\"\n",
    "MODELS_DIR = REPO_ROOT / \"models\"\n",
    "\n",
    "# Device setup\n",
    "device = torch.device(\n",
    "    \"mps\" if torch.backends.mps.is_available() else\n",
    "    (\"cuda\" if torch.cuda.is_available() else \"cpu\")\n",
    ")\n",
    "device"
   ]
  },
  {
   "cell_type": "code",
   "execution_count": 16,
   "id": "099a8ed1",
   "metadata": {},
   "outputs": [
    {
     "name": "stdout",
     "output_type": "stream",
     "text": [
      "Predicted: o お\n"
     ]
    },
    {
     "name": "stderr",
     "output_type": "stream",
     "text": [
      "/var/folders/w9/33k1xs6577ddhxr4j4h706qr0000gn/T/ipykernel_36177/1396013012.py:11: DeprecationWarning: 'mode' parameter is deprecated and will be removed in Pillow 13 (2026-10-15)\n",
      "  pil = Image.fromarray(sample.astype(np.uint8), mode=\"L\")\n"
     ]
    }
   ],
   "source": [
    "import numpy as np\n",
    "from PIL import Image\n",
    "\n",
    "# load test data\n",
    "test_imgs = np.load(DATA_DIR / \"kmnist-test-imgs.npz\")[\"arr_0\"]\n",
    "\n",
    "# pick one image (say index 0)\n",
    "sample = test_imgs[0]\n",
    "\n",
    "# convert to PIL (uint8 0–255 grayscale)\n",
    "pil = Image.fromarray(sample.astype(np.uint8), mode=\"L\")\n",
    "\n",
    "probs, top1, native = predict_from_pil(pil, model_name, ALL_MODELS, device)\n",
    "\n",
    "print(\"Predicted:\", KMNIST_CLASSES[top1], KANA[KMNIST_CLASSES[top1]])\n",
    "pil.show()"
   ]
  },
  {
   "cell_type": "code",
   "execution_count": 17,
   "id": "73185dae",
   "metadata": {},
   "outputs": [
    {
     "data": {
      "image/png": "[encoded data removed]",
      "text/plain": [
       "<Figure size 500x280 with 1 Axes>"
      ]
     },
     "metadata": {},
     "output_type": "display_data"
    }
   ],
   "source": [
    "import matplotlib.pyplot as plt\n",
    "idx = np.argsort(-probs)[:10]\n",
    "plt.figure(figsize=(5,2.8))\n",
    "plt.bar(range(len(idx)), probs[idx])\n",
    "plt.xticks(range(len(idx)), [KMNIST_CLASSES[i] for i in idx])\n",
    "plt.ylim(0,1); plt.ylabel(\"prob.\")\n",
    "plt.grid(axis=\"y\", alpha=0.25)\n",
    "plt.show()"
   ]
  },
  {
   "cell_type": "code",
   "execution_count": null,
   "id": "124804e5",
   "metadata": {},
   "outputs": [],
   "source": []
  }
 ],
 "metadata": {
  "kernelspec": {
   "display_name": "Python 3",
   "language": "python",
   "name": "python3"
  },
  "language_info": {
   "codemirror_mode": {
    "name": "ipython",
    "version": 3
   },
   "file_extension": ".py",
   "mimetype": "text/x-python",
   "name": "python",
   "nbconvert_exporter": "python",
   "pygments_lexer": "ipython3",
   "version": "3.11.9"
  }
 },
 "nbformat": 4,
 "nbformat_minor": 5
}
