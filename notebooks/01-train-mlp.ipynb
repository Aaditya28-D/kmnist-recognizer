{
 "cells": [
  {
   "cell_type": "code",
   "execution_count": 42,
   "id": "f2eccd78",
   "metadata": {},
   "outputs": [
    {
     "name": "stdout",
     "output_type": "stream",
     "text": [
      "Using repo root: /Users/aaditya/Workspace/Learning/Github/projects/kmnist-recognizer\n"
     ]
    }
   ],
   "source": [
    "import sys\n",
    "from pathlib import Path\n",
    "\n",
    "# Ensure repo root is on Python path\n",
    "REPO_ROOT = Path(\"..\").resolve()\n",
    "if str(REPO_ROOT) not in sys.path:\n",
    "    sys.path.insert(0, str(REPO_ROOT))\n",
    "\n",
    "print(\"Using repo root:\", REPO_ROOT)"
   ]
  },
  {
   "cell_type": "code",
   "execution_count": 44,
   "id": "1c64d8b5",
   "metadata": {},
   "outputs": [
    {
     "data": {
      "text/plain": [
       "device(type='mps')"
      ]
     },
     "execution_count": 44,
     "metadata": {},
     "output_type": "execute_result"
    }
   ],
   "source": [
    "from pathlib import Path\n",
    "import torch\n",
    "\n",
    "from src.kmnist.data import load_kmnist_npz, split_train_val, make_loader\n",
    "from src.kmnist.models.mlp import MLPWide\n",
    "from src.kmnist.train import train_model\n",
    "\n",
    "# repo-relative paths\n",
    "REPO_ROOT  = Path(\"..\")\n",
    "DATA_DIR   = REPO_ROOT / \"data\"\n",
    "MODELS_DIR = REPO_ROOT / \"models\"\n",
    "MODELS_DIR.mkdir(parents=True, exist_ok=True)\n",
    "\n",
    "# device setup\n",
    "device = torch.device(\"mps\" if torch.backends.mps.is_available()\n",
    "                      else \"cuda\" if torch.cuda.is_available()\n",
    "                      else \"cpu\")\n",
    "device"
   ]
  },
  {
   "cell_type": "code",
   "execution_count": 45,
   "id": "42ef71fc",
   "metadata": {},
   "outputs": [
    {
     "name": "stdout",
     "output_type": "stream",
     "text": [
      "Train: (54000, 28, 28) (54000,)\n",
      "Val:   (6000, 28, 28) (6000,)\n"
     ]
    }
   ],
   "source": [
    "# load training images + labels\n",
    "x, y = load_kmnist_npz(DATA_DIR, split=\"train\")\n",
    "\n",
    "# split into train/val\n",
    "tr_x, tr_y, va_x, va_y = split_train_val(x, y, val_frac=0.1, seed=42)\n",
    "\n",
    "print(\"Train:\", tr_x.shape, tr_y.shape)\n",
    "print(\"Val:  \", va_x.shape, va_y.shape)\n",
    "\n",
    "# sanity checks\n",
    "assert tr_x.shape[1:] == (28, 28)\n",
    "assert va_x.shape[1:] == (28, 28)\n",
    "assert tr_y.ndim == 1 and va_y.ndim == 1"
   ]
  },
  {
   "cell_type": "code",
   "execution_count": 46,
   "id": "6b1bef86",
   "metadata": {},
   "outputs": [
    {
     "data": {
      "text/plain": [
       "(422, 24)"
      ]
     },
     "execution_count": 46,
     "metadata": {},
     "output_type": "execute_result"
    }
   ],
   "source": [
    "train_loader = make_loader(tr_x, tr_y, batch_size=128, shuffle=True)\n",
    "val_loader   = make_loader(va_x, va_y, batch_size=256, shuffle=False)\n",
    "\n",
    "len(train_loader), len(val_loader)"
   ]
  },
  {
   "cell_type": "code",
   "execution_count": 47,
   "id": "28654605",
   "metadata": {},
   "outputs": [
    {
     "data": {
      "text/plain": [
       "MLPWide(\n",
       "  (net): Sequential(\n",
       "    (0): Flatten(start_dim=1, end_dim=-1)\n",
       "    (1): Linear(in_features=784, out_features=512, bias=True)\n",
       "    (2): BatchNorm1d(512, eps=1e-05, momentum=0.1, affine=True, track_running_stats=True)\n",
       "    (3): GELU(approximate='none')\n",
       "    (4): Dropout(p=0.35, inplace=False)\n",
       "    (5): Linear(in_features=512, out_features=256, bias=True)\n",
       "    (6): BatchNorm1d(256, eps=1e-05, momentum=0.1, affine=True, track_running_stats=True)\n",
       "    (7): GELU(approximate='none')\n",
       "    (8): Dropout(p=0.35, inplace=False)\n",
       "    (9): Linear(in_features=256, out_features=128, bias=True)\n",
       "    (10): BatchNorm1d(128, eps=1e-05, momentum=0.1, affine=True, track_running_stats=True)\n",
       "    (11): GELU(approximate='none')\n",
       "    (12): Dropout(p=0.35, inplace=False)\n",
       "    (13): Linear(in_features=128, out_features=10, bias=True)\n",
       "  )\n",
       ")"
      ]
     },
     "execution_count": 47,
     "metadata": {},
     "output_type": "execute_result"
    }
   ],
   "source": [
    "model = MLPWide(p=0.35).to(device)\n",
    "model"
   ]
  },
  {
   "cell_type": "code",
   "execution_count": 48,
   "id": "26a850c1",
   "metadata": {},
   "outputs": [
    {
     "name": "stdout",
     "output_type": "stream",
     "text": [
      "Epoch 01 | train acc 0.853 loss 0.498 | val acc 0.905 loss 0.295\n",
      "Epoch 02 | train acc 0.919 loss 0.263 | val acc 0.935 loss 0.205\n",
      "Epoch 03 | train acc 0.938 loss 0.200 | val acc 0.927 loss 0.225\n",
      "Epoch 04 | train acc 0.948 loss 0.168 | val acc 0.950 loss 0.167\n",
      "Epoch 05 | train acc 0.954 loss 0.144 | val acc 0.952 loss 0.158\n",
      "Epoch 06 | train acc 0.961 loss 0.125 | val acc 0.948 loss 0.172\n",
      "Epoch 07 | train acc 0.964 loss 0.113 | val acc 0.943 loss 0.185\n",
      "Epoch 08 | train acc 0.967 loss 0.107 | val acc 0.956 loss 0.151\n",
      "Epoch 09 | train acc 0.969 loss 0.095 | val acc 0.958 loss 0.140\n",
      "Epoch 10 | train acc 0.973 loss 0.085 | val acc 0.957 loss 0.146\n",
      "Epoch 11 | train acc 0.975 loss 0.079 | val acc 0.961 loss 0.134\n",
      "Epoch 12 | train acc 0.976 loss 0.074 | val acc 0.963 loss 0.131\n",
      "Epoch 13 | train acc 0.978 loss 0.067 | val acc 0.951 loss 0.170\n",
      "Epoch 14 | train acc 0.980 loss 0.064 | val acc 0.958 loss 0.140\n",
      "Epoch 15 | train acc 0.981 loss 0.059 | val acc 0.964 loss 0.135\n",
      "Epoch 16 | train acc 0.982 loss 0.055 | val acc 0.963 loss 0.145\n",
      "Epoch 17 | train acc 0.982 loss 0.056 | val acc 0.961 loss 0.135\n",
      "Early stopping at epoch 17 (no improvement for 5 epochs)\n"
     ]
    }
   ],
   "source": [
    "_ = train_model(\n",
    "    model,\n",
    "    train_loader,\n",
    "    epochs=40,                          # max epochs\n",
    "    lr=1e-3,                            # learning rate\n",
    "    val_loader=val_loader,\n",
    "    out_path=MODELS_DIR / \"multilayer_perceptron_model.pt\",\n",
    "    early_stopping=True,                # enable early stopping\n",
    "    patience=5,                         # stop if no val improvement in 5 epochs\n",
    "    min_delta=1e-3,                     # improvement threshold\n",
    "    save_best_only=True                 # persist best model only\n",
    ")"
   ]
  },
  {
   "cell_type": "code",
   "execution_count": 49,
   "id": "a951fd2d",
   "metadata": {},
   "outputs": [
    {
     "name": "stdout",
     "output_type": "stream",
     "text": [
      "✅ Best model reloaded and ready for inference.\n"
     ]
    }
   ],
   "source": [
    "best = torch.load(MODELS_DIR / \"multilayer_perceptron_model.pt\", map_location=device)\n",
    "model.load_state_dict(best)\n",
    "model.eval()\n",
    "\n",
    "print(\"✅ Best model reloaded and ready for inference.\")"
   ]
  },
  {
   "cell_type": "code",
   "execution_count": null,
   "id": "e5883248",
   "metadata": {},
   "outputs": [],
   "source": []
  }
 ],
 "metadata": {
  "kernelspec": {
   "display_name": "Python 3",
   "language": "python",
   "name": "python3"
  },
  "language_info": {
   "codemirror_mode": {
    "name": "ipython",
    "version": 3
   },
   "file_extension": ".py",
   "mimetype": "text/x-python",
   "name": "python",
   "nbconvert_exporter": "python",
   "pygments_lexer": "ipython3",
   "version": "3.11.9"
  }
 },
 "nbformat": 4,
 "nbformat_minor": 5
}
